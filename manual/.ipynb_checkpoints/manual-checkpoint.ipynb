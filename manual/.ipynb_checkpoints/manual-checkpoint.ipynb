{
 "metadata": {
  "name": "",
  "signature": "sha256:4cbf97157ef27b2d1adb1a1d5468c4117930a856485e7e0fc94538459c372846"
 },
 "nbformat": 3,
 "nbformat_minor": 0,
 "worksheets": [
  {
   "cells": [
    {
     "cell_type": "heading",
     "level": 1,
     "metadata": {},
     "source": [
      "Taking Measurements"
     ]
    },
    {
     "cell_type": "markdown",
     "metadata": {},
     "source": [
      "In Ubuntu, the OpenDrop.py file can be made \"double-clickable\" by changing the default Nautilus preferences (Edit --> Preferences --> Behaviour). \n",
      "\n",
      "Alternatively, run the code in the terminal using the script file \"run\" with the command:\n",
      "```tcsh\n",
      ".\\run\n",
      "```\n",
      "The following window will open, ready for user input:"
     ]
    },
    {
     "cell_type": "markdown",
     "metadata": {},
     "source": [
      "<img src=\"files/images/menu.png\">"
     ]
    },
    {
     "cell_type": "markdown",
     "metadata": {},
     "source": [
      "Here we can set the physical properties of the system, and choose the graphical outputs we want to show as opendrop is running. We also choose the directory and the file we want our output data to be written to. We can also specify whether we want to use an already generated image (Local images), or whether we want to acquire and process images using a camera (currently either Flea3 or USB)."
     ]
    },
    {
     "cell_type": "markdown",
     "metadata": {},
     "source": [
      "<img src=\"files/images/water_air.png\" height=\"576\" width=\"720\">"
     ]
    },
    {
     "cell_type": "markdown",
     "metadata": {},
     "source": []
    },
    {
     "cell_type": "heading",
     "level": 2,
     "metadata": {},
     "source": [
      "Setup"
     ]
    },
    {
     "cell_type": "markdown",
     "metadata": {},
     "source": [
      "Select drop region:"
     ]
    },
    {
     "cell_type": "markdown",
     "metadata": {},
     "source": [
      "<img src=\"files/images/drop_selectionA.png\" height=\"630\" width=\"720\">"
     ]
    },
    {
     "cell_type": "markdown",
     "metadata": {},
     "source": [
      "<img src=\"files/images/drop_selectionB.png\" height=\"630\" width=\"720\">"
     ]
    },
    {
     "cell_type": "markdown",
     "metadata": {},
     "source": [
      "<img src=\"files/images/needle_selectionB.png\" height=\"630\" width=\"720\">"
     ]
    },
    {
     "cell_type": "markdown",
     "metadata": {},
     "source": [
      "<img src=\"files/images/drop_profile.png\" height=\"611\" width=\"720\">"
     ]
    },
    {
     "cell_type": "markdown",
     "metadata": {},
     "source": [
      "<img src=\"files/images/residuals.png\" height=\"611\" width=\"720\">"
     ]
    },
    {
     "cell_type": "markdown",
     "metadata": {},
     "source": [
      "```tcsh\n",
      "Processing frame 1 of 1...\n",
      "__________________________________________________________________________\n",
      "| Step |  Error   | x-centre | z-centre | Apex R_0 |   Bond   | w degree |\n",
      "|   1  |   0.7254 | 510.0042 | 355.0740 | 190.4734 |  0.21730 | -0.74084 |\n",
      "|   2  |   0.2172 | 510.0236 | 355.0909 | 190.4750 |  0.21725 | -0.74488 |\n",
      "|   3  |   0.2171 | 510.0237 | 355.0909 | 190.4750 |  0.21725 | -0.74489 |\n",
      "|   4  |   0.2171 | 510.0237 | 355.0909 | 190.4750 |  0.21725 | -0.74489 |\n",
      "Convergence in parameters\n",
      "\n",
      "```"
     ]
    },
    {
     "cell_type": "code",
     "collapsed": false,
     "input": [],
     "language": "python",
     "metadata": {},
     "outputs": []
    },
    {
     "cell_type": "markdown",
     "metadata": {},
     "source": [
      "```bash\n",
      "Time (s),IFT (mN/m),Volume (uL),Area (mm2),x-apex (px),y-apex (px),Apex radius (px),Bond number,Rotation (degree)\n",
      "   0.00000,  71.78098,  10.95089,  23.80818, 510.02365, 355.09087, 190.47503,   0.21725,  -0.01300\n",
      "```"
     ]
    }
   ],
   "metadata": {}
  }
 ]
}