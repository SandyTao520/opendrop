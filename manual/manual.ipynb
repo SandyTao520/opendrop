{
 "metadata": {
  "name": "",
  "signature": "sha256:4cbf97157ef27b2d1adb1a1d5468c4117930a856485e7e0fc94538459c372846"
 },
 "nbformat": 3,
 "nbformat_minor": 0,
 "worksheets": [
  {
   "cells": [
    {
     "cell_type": "heading",
     "level": 1,
     "metadata": {},
     "source": [
      "Pendant Drop Code"
     ]
    },
    {
     "cell_type": "markdown",
     "metadata": {},
     "source": [
      "This notebook provides insight into the inner workings of the pendant drop code."
     ]
    },
    {
     "cell_type": "markdown",
     "metadata": {},
     "source": [
      "<img src=\"files/images/water_air.png\" height=\"576\" width=\"720\">"
     ]
    },
    {
     "cell_type": "markdown",
     "metadata": {},
     "source": [
      "Run the code using the script file bashme with the command:\n",
      "```bash\n",
      ".\\bashme\n",
      "```"
     ]
    },
    {
     "cell_type": "markdown",
     "metadata": {},
     "source": [
      "<img src=\"files/images/menu.png\">"
     ]
    },
    {
     "cell_type": "heading",
     "level": 2,
     "metadata": {},
     "source": [
      "Setup"
     ]
    },
    {
     "cell_type": "markdown",
     "metadata": {},
     "source": [
      "Select drop region:"
     ]
    },
    {
     "cell_type": "markdown",
     "metadata": {},
     "source": [
      "<img src=\"files/images/drop_selectionA.png\" height=\"630\" width=\"720\">"
     ]
    },
    {
     "cell_type": "markdown",
     "metadata": {},
     "source": [
      "<img src=\"files/images/drop_selectionB.png\" height=\"630\" width=\"720\">"
     ]
    },
    {
     "cell_type": "markdown",
     "metadata": {},
     "source": [
      "<img src=\"files/images/needle_selectionB.png\" height=\"630\" width=\"720\">"
     ]
    },
    {
     "cell_type": "markdown",
     "metadata": {},
     "source": [
      "<img src=\"files/images/drop_profile.png\" height=\"611\" width=\"720\">"
     ]
    },
    {
     "cell_type": "markdown",
     "metadata": {},
     "source": [
      "<img src=\"files/images/residuals.png\" height=\"611\" width=\"720\">"
     ]
    },
    {
     "cell_type": "markdown",
     "metadata": {},
     "source": [
      "```tcsh\n",
      "Processing frame 1 of 1...\n",
      "__________________________________________________________________________\n",
      "| Step |  Error   | x-centre | z-centre | Apex R_0 |   Bond   | w degree |\n",
      "|   1  |   0.7254 | 510.0042 | 355.0740 | 190.4734 |  0.21730 | -0.74084 |\n",
      "|   2  |   0.2172 | 510.0236 | 355.0909 | 190.4750 |  0.21725 | -0.74488 |\n",
      "|   3  |   0.2171 | 510.0237 | 355.0909 | 190.4750 |  0.21725 | -0.74489 |\n",
      "|   4  |   0.2171 | 510.0237 | 355.0909 | 190.4750 |  0.21725 | -0.74489 |\n",
      "Convergence in parameters\n",
      "\n",
      "```"
     ]
    },
    {
     "cell_type": "code",
     "collapsed": false,
     "input": [],
     "language": "python",
     "metadata": {},
     "outputs": []
    },
    {
     "cell_type": "markdown",
     "metadata": {},
     "source": [
      "```bash\n",
      "Time (s),IFT (mN/m),Volume (uL),Area (mm2),x-apex (px),y-apex (px),Apex radius (px),Bond number,Rotation (degree)\n",
      "   0.00000,  71.78098,  10.95089,  23.80818, 510.02365, 355.09087, 190.47503,   0.21725,  -0.01300\n",
      "```"
     ]
    }
   ],
   "metadata": {}
  }
 ]
}